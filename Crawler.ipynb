{
 "cells": [
  {
   "cell_type": "code",
   "execution_count": null,
   "metadata": {},
   "outputs": [],
   "source": [
    "from selenium import webdriver\n",
    "from selenium.webdriver.chrome.options import Options\n",
    "import time\n",
    "from time import sleep\n",
    "from bs4 import BeautifulSoup as bs\n",
    "import pandas as pd\n",
    "import os\n",
    "import math\n",
    "import urllib\n",
    "from urllib.request import urlretrieve\n",
    "import datetime\n",
    "import requests\n",
    "from pathlib import Path"
   ]
  },
  {
   "cell_type": "code",
   "execution_count": null,
   "metadata": {
    "scrolled": true
   },
   "outputs": [],
   "source": [
    "chrome_options = Options()\n",
    "driver = webdriver.Chrome(options=chrome_options)\n",
    "\n",
    "url = \"https://www.instagram.com/sabrina900410/\"\n",
    "driver.get(url)\n",
    "\n",
    "\n",
    "sleep(3)\n",
    "ck_1 = driver.find_element_by_css_selector(\".tdiEy\").click()\n",
    "sleep(2)\n",
    "account = driver.find_element_by_css_selector('[name=\"username\"]').send_keys(\"username\")\n",
    "passwd = driver.find_element_by_css_selector('[name=\"password\"]').send_keys(\"password\")\n",
    "button = driver.find_element_by_css_selector('[type=\"submit\"]').click()\n",
    "print(\"登入\")\n",
    "\n",
    "sleep(5)\n",
    "ck_2 = driver.find_element_by_css_selector(\".yWX7d\").click()\n",
    "print(\"稍後再說\")\n",
    "\n",
    "\n",
    "SCROLL_PAUSE_TIME = 3\n",
    "images_unique=[]\n",
    "# Get scroll height\n",
    "last_height = driver.execute_script(\"return document.body.scrollHeight\")\n",
    "\n",
    "while True:\n",
    "    # Scroll down to bottom\n",
    "    driver.execute_script(\"window.scrollTo(0, document.body.scrollHeight);\")\n",
    "\n",
    "    # Wait to load page\n",
    "    time.sleep(SCROLL_PAUSE_TIME)\n",
    "\n",
    "    # Calculate new scroll height and compare with last scroll height\n",
    "    new_height = driver.execute_script(\"return document.body.scrollHeight\")\n",
    "    if new_height == last_height:\n",
    "        driver.execute_script(\"window.scrollTo(document.body.scrollHeight,0);\")\n",
    "        break\n",
    "    # This means that there is still photos to scrap\n",
    "    last_height = new_height\n",
    "    time.sleep(1)\n",
    "    # Retrive the html\n",
    "    html_to_parse=str(driver.page_source)\n",
    "    html=bs(html_to_parse,\"html5lib\")\n",
    "    # Get the image's url\n",
    "    images_url=html.findAll(\"img\", {\"class\": \"FFVAD\"})\n",
    "\n",
    "    # Check if they are unique\n",
    "    in_first = set(images_unique)\n",
    "    in_second = set(images_url)\n",
    "\n",
    "    in_second_but_not_in_first = in_second - in_first\n",
    "\n",
    "    result = images_unique + list(in_second_but_not_in_first)\n",
    "    images_unique=result\n",
    "print(\"已拉至最底\")\n",
    "\n",
    "for i in range(len(images_unique)):\n",
    "# Save each image.jpg file\n",
    "    name=\"image\"+str(i)+\".jpg\"\n",
    "    with open(name, 'wb') as handler:\n",
    "\n",
    "        img_data = requests.get(images_unique[i].get(\"src\")).content\n",
    "        handler.write(img_data)\n",
    "print('下載完畢')\n",
    "print(f'總共 {len(images_unique)} 張')"
   ]
  },
  {
   "cell_type": "code",
   "execution_count": null,
   "metadata": {},
   "outputs": [],
   "source": [
    "driver.close()"
   ]
  },
  {
   "cell_type": "code",
   "execution_count": null,
   "metadata": {},
   "outputs": [],
   "source": []
  }
 ],
 "metadata": {
  "kernelspec": {
   "display_name": "venv",
   "language": "python",
   "name": "venv"
  },
  "language_info": {
   "codemirror_mode": {
    "name": "ipython",
    "version": 3
   },
   "file_extension": ".py",
   "mimetype": "text/x-python",
   "name": "python",
   "nbconvert_exporter": "python",
   "pygments_lexer": "ipython3",
   "version": "3.7.6"
  }
 },
 "nbformat": 4,
 "nbformat_minor": 4
}
